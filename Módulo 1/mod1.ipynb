{
 "cells": [
  {
   "cell_type": "markdown",
   "metadata": {},
   "source": [
    "## Programa que muestra la fecha\n",
    "\n",
    "Esta es mi version del programa que muestra la fecha"
   ]
  },
  {
   "cell_type": "code",
   "execution_count": 3,
   "metadata": {},
   "outputs": [
    {
     "name": "stdout",
     "output_type": "stream",
     "text": [
      "Hoy es: 2022-02-06\n"
     ]
    }
   ],
   "source": [
    "#Ricardo González Garduño\n",
    "\n",
    "from datetime import date\n",
    "\n",
    "print(\"Hoy es: \" + str(date.today()) )\n"
   ]
  },
  {
   "cell_type": "markdown",
   "metadata": {},
   "source": [
    "## Convertidor de unidades\n",
    "\n",
    "Programa para convertir años luz a parsecs y viceversa"
   ]
  },
  {
   "cell_type": "code",
   "execution_count": 7,
   "metadata": {},
   "outputs": [
    {
     "name": "stdout",
     "output_type": "stream",
     "text": [
      "11 parsec(s) equivale(n) a 35.877159999999996 año(s) luz.\n"
     ]
    }
   ],
   "source": [
    "#Ricardo González Garduño\n",
    "#06/02/2022\n",
    "\n",
    "parsec = 11\n",
    "\n",
    "aluz = 0\n",
    "\n",
    "aluz = parsec * 3.26156\n",
    "\n",
    "print(str(parsec) + \" parsec(s) equivale(n) a \" + str(aluz) + \" año(s) luz.\")"
   ]
  }
 ],
 "metadata": {
  "interpreter": {
   "hash": "2be5faf79681da6f2a61fdfdd5405d65d042280f7fba6178067603e3a2925119"
  },
  "kernelspec": {
   "display_name": "Python 3.10.0 64-bit",
   "language": "python",
   "name": "python3"
  },
  "language_info": {
   "codemirror_mode": {
    "name": "ipython",
    "version": 3
   },
   "file_extension": ".py",
   "mimetype": "text/x-python",
   "name": "python",
   "nbconvert_exporter": "python",
   "pygments_lexer": "ipython3",
   "version": "3.10.0"
  },
  "orig_nbformat": 4
 },
 "nbformat": 4,
 "nbformat_minor": 2
}
